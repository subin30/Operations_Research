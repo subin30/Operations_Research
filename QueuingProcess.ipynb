{
  "nbformat": 4,
  "nbformat_minor": 0,
  "metadata": {
    "colab": {
      "name": "Untitled0.ipynb",
      "provenance": [],
      "authorship_tag": "ABX9TyP4/2pPy1EFYbKjoW0sn9OD",
      "include_colab_link": true
    },
    "kernelspec": {
      "name": "python3",
      "display_name": "Python 3"
    },
    "language_info": {
      "name": "python"
    }
  },
  "cells": [
    {
      "cell_type": "markdown",
      "metadata": {
        "id": "view-in-github",
        "colab_type": "text"
      },
      "source": [
        "<a href=\"https://colab.research.google.com/github/subin30/Operations_Research/blob/main/QueuingProcess.ipynb\" target=\"_parent\"><img src=\"https://colab.research.google.com/assets/colab-badge.svg\" alt=\"Open In Colab\"/></a>"
      ]
    },
    {
      "cell_type": "markdown",
      "metadata": {
        "id": "NHBrtujmyk6z"
      },
      "source": [
        "#Group: Queuing\n",
        "\n",
        "#Course: Operation Research (CPSMA - 3933)\n",
        "\n",
        "#Title: Queuing Process\n",
        "\n",
        "#Members: Subin Manandhar, Dhiraj Bikram Basnet, Dichendra Shrestha\n",
        "\n",
        "#Instructor: Dr. Nicholas Jacob"
      ]
    },
    {
      "cell_type": "markdown",
      "metadata": {
        "id": "_SG_cXm91N6J"
      },
      "source": [
        "#Introduction / Motivation\n",
        "\n",
        "This project is a research on queuing process. In this project we go through the basic idea of how queuing process works. We also go through some of the simple mathmatical problems. Python programming language has been used for solving math problems in this project."
      ]
    },
    {
      "cell_type": "markdown",
      "metadata": {
        "id": "l2J6QZig0XxV"
      },
      "source": [
        "#Theory\n",
        "\n",
        "We have all been in a situation of waiting in line. This process is more common where\n",
        "areas are more congested meaning places with large number of people. We basically must\n",
        "wait in line for everything and every day. We wait in line in our cars in jams or at checkout\n",
        "counters in our grocery stores, So queuing is a model of waiting in lines."
      ]
    },
    {
      "cell_type": "markdown",
      "metadata": {
        "id": "zcJLGZek7oDf"
      },
      "source": [
        "#Project Idea\n",
        "\n",
        "We are thinking of making a case based on how a grocery store handles a long queue of customers.\n",
        "\n",
        "From this study we might be able to figure out how queuing process would help managing the queue of customers in the store.\n"
      ]
    },
    {
      "cell_type": "markdown",
      "metadata": {
        "id": "OYSdRAi75iJM"
      },
      "source": [
        "#Example:-\n",
        " Customers arrive at a milk parlor being manned by a single Individual at rate of 25 per hour.\n",
        "The time required to serve a customer has exponential distribution with a mean of 30 per hour.\n",
        "Discuss the various characteristics of the queuing system, assuming that there is only one\n",
        "server.\n",
        "\n",
        "\n",
        "1.   Arrival rate (λ) = 25 per hour, Service rate (μ) = 30 per hour\n",
        "\n"
      ]
    },
    {
      "cell_type": "code",
      "metadata": {
        "id": "n9NDIA7_58Wd"
      },
      "source": [
        "meanArrivalRate = 25;\n",
        "serviceRate = 30;"
      ],
      "execution_count": 3,
      "outputs": []
    },
    {
      "cell_type": "code",
      "metadata": {
        "colab": {
          "base_uri": "https://localhost:8080/"
        },
        "id": "dQ1W_S2e5c36",
        "outputId": "68df7125-579f-4311-a911-0503caad1a0f"
      },
      "source": [
        "import math\n",
        "\n",
        "UtilizationFactor = (meanArrivalRate / serviceRate)\n",
        "\n",
        "print (UtilizationFactor)\n",
        "\n"
      ],
      "execution_count": 10,
      "outputs": [
        {
          "output_type": "stream",
          "name": "stdout",
          "text": [
            "0.8333333333333334\n"
          ]
        }
      ]
    },
    {
      "cell_type": "code",
      "metadata": {
        "colab": {
          "base_uri": "https://localhost:8080/"
        },
        "id": "AqQUus4C669d",
        "outputId": "fb148fc8-52cd-44ab-d57a-b62c15b24d83"
      },
      "source": [
        "ExpectedNumbersInSystem = (UtilizationFactor/ (1-UtilizationFactor))\n",
        "print (ExpectedNumbersInSystem)"
      ],
      "execution_count": 12,
      "outputs": [
        {
          "output_type": "stream",
          "name": "stdout",
          "text": [
            "5.000000000000002\n"
          ]
        }
      ]
    },
    {
      "cell_type": "markdown",
      "metadata": {
        "id": "satA_DJ0z3Dr"
      },
      "source": [
        "#References:\n",
        "\n",
        "1. Mathematical Methods in The Theory of Queueing (A. Y. Khintchine)\n",
        "2. An Introduction to Queueing Theory (U. Narayan Bhat)\n",
        "3. Fundamentals of Queueing Theory (Donald Gross, John F. Shortle, James M. Thompson,\n",
        "Carl M. Harris)\n"
      ]
    }
  ]
}